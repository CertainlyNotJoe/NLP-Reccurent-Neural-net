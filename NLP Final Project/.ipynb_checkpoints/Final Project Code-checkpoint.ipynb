{
 "cells": [
  {
   "cell_type": "code",
   "execution_count": 12,
   "metadata": {},
   "outputs": [],
   "source": [
    "# All the imports that will be used for this project\n",
    "import nltk\n",
    "import csv\n",
    "import re\n",
    "# Uncomment to download\n",
    "# nltk.download('averaged_perceptron_tagger')\n",
    "import collections"
   ]
  },
  {
   "cell_type": "code",
   "execution_count": 13,
   "metadata": {},
   "outputs": [],
   "source": [
    "# Opens up the data set that we will be using\n",
    "redditData = open('training_data/reddit_data.csv', encoding=\"utf8\")"
   ]
  },
  {
   "cell_type": "code",
   "execution_count": 14,
   "metadata": {},
   "outputs": [],
   "source": [
    "# Creates the counter for sentence structures\n",
    "structureBook = collections.Counter()\n",
    "\n",
    "# Creates the list of tokenized sentences\n",
    "redditSentences = []\n",
    "for row in list(csv.reader(redditData))[1:]:\n",
    "    # Splits the current message into a list of the sentences contained within itself\n",
    "    currentSentences = re.split('(?<=[.!?]) +',row[1])\n",
    "    for sentence in currentSentences:\n",
    "        if(len(sentence) != 0):\n",
    "            # Tokenizes the current sentence\n",
    "            transformedSentence = nltk.word_tokenize(sentence)\n",
    "            \n",
    "            # Prepends <s> to the list\n",
    "            transformedSentence.insert(0, \"<s>\")\n",
    "            \n",
    "            # Adds the tokenized sentence to the list of tokenized sentences\n",
    "            redditSentences.append(transformedSentence)\n",
    "            \n",
    "            # POS tags all of the tokens in the sentence\n",
    "            sentenceStructure = nltk.pos_tag(transformedSentence)\n",
    "            # Converts list of sentence tags into a string of sentence tags\n",
    "            tagSentence = \"\"\n",
    "            for i in range(len(sentenceStructure)):\n",
    "                tagSentence += sentenceStructure[i][1] + \" \"\n",
    "            # Removes the extra space at the end\n",
    "            tagSentence = tagSentence[:-1]\n",
    "            # Add to the counter of known sentence structures\n",
    "            structureBook[tagSentence] += 1"
   ]
  },
  {
   "cell_type": "code",
   "execution_count": 19,
   "metadata": {},
   "outputs": [
    {
     "data": {
      "text/plain": [
       "'VBZ JJS NNS VBP NNS CC RB RB DT JJ NN CC NN'"
      ]
     },
     "execution_count": 19,
     "metadata": {},
     "output_type": "execute_result"
    }
   ],
   "source": [
    "# Cell is used for testing values of redditSentences and structureBook\n",
    "max(structureBook)"
   ]
  },
  {
   "cell_type": "code",
   "execution_count": 20,
   "metadata": {},
   "outputs": [],
   "source": [
    "from gensim.models import Word2Vec\n",
    "# Creates word embedding for the vocabulary of the current dataset\n",
    "\n",
    "# Size of Word Embeddings\n",
    "EMBEDDINGS_SIZE = 200\n",
    "word_embeddings = Word2Vec(sg = 1, window = 5, size = EMBEDDINGS_SIZE, min_count = 1, sentences = redditSentences)"
   ]
  },
  {
   "cell_type": "code",
   "execution_count": 21,
   "metadata": {},
   "outputs": [
    {
     "name": "stdout",
     "output_type": "stream",
     "text": [
      "Vocab size 24853\n"
     ]
    }
   ],
   "source": [
    "# Gets the size of the vocabulary for the word embeddings\n",
    "print('Vocab size {}'.format(len(word_embeddings.wv.vocab)))"
   ]
  },
  {
   "cell_type": "code",
   "execution_count": null,
   "metadata": {},
   "outputs": [],
   "source": []
  }
 ],
 "metadata": {
  "kernelspec": {
   "display_name": "Python 3",
   "language": "python",
   "name": "python3"
  },
  "language_info": {
   "codemirror_mode": {
    "name": "ipython",
    "version": 3
   },
   "file_extension": ".py",
   "mimetype": "text/x-python",
   "name": "python",
   "nbconvert_exporter": "python",
   "pygments_lexer": "ipython3",
   "version": "3.8.3"
  }
 },
 "nbformat": 4,
 "nbformat_minor": 4
}
